{
 "cells": [
  {
   "cell_type": "code",
   "execution_count": 1,
   "metadata": {},
   "outputs": [],
   "source": [
    "from loguru import logger\n",
    "import numpy as np\n",
    "from numpy.linalg import norm\n",
    "from scipy.sparse import diags, csc_matrix\n",
    "from time import time\n",
    "import sys"
   ]
  },
  {
   "cell_type": "code",
   "execution_count": 2,
   "metadata": {},
   "outputs": [],
   "source": [
    "logger_handlers = [\n",
    "    {\n",
    "        \"sink\": sys.stdout,\n",
    "        \"level\": \"INFO\",\n",
    "        \"format\": \"<level>level={level} {message}</level>\",\n",
    "    }\n",
    "]\n",
    "logger.configure(handlers=logger_handlers)\n",
    "args = {}\n",
    "args[\"input\"] = \"matrix2.txt\"\n",
    "args[\"output\"] = \"output.txt\"\n",
    "args[\"eps\"] = 0.01\n",
    "args[\"diag\"] = False"
   ]
  },
  {
   "cell_type": "code",
   "execution_count": 3,
   "metadata": {},
   "outputs": [],
   "source": [
    "def read_matrix(filename: str):\n",
    "    with open(filename) as f:\n",
    "        shape = int(f.readline())\n",
    "        matrix = [[float(num) for num in line.split()]\n",
    "                  for _, line in zip(range(shape), f)]\n",
    "        matrix = csc_matrix(matrix)\n",
    "        b = np.array([float(num) for num in f.readline().split()])\n",
    "        return matrix, b\n"
   ]
  },
  {
   "cell_type": "code",
   "execution_count": 4,
   "metadata": {},
   "outputs": [],
   "source": [
    "class Solver:\n",
    "    def __init__(self, matrix, b, output_file,\n",
    "                 x0=None, eps=1e-5):\n",
    "        self.output = 'res_default' if output_file is None else output_file\n",
    "        self.matrix = matrix\n",
    "        self.b = b\n",
    "        self.eps = eps\n",
    "        self.shape = matrix.shape[0]\n",
    "        self.x0 = np.array([0] * self.shape) if x0 is None else x0\n",
    "        self.k = 0\n",
    "\n",
    "\n",
    "\n",
    "    def solve(self, max_iter=100000):\n",
    "        x0 = self.x0\n",
    "        r0 = self.b - self.matrix.dot(x0)\n",
    "        p0 = np.copy(r0)\n",
    "        for _ in range(max_iter):\n",
    "            temp = self.matrix @ p0\n",
    "            norm_0 = np.dot(r0, r0)\n",
    "            alpha_i = norm_0 / (temp @ p0)\n",
    "            x_new = x0 + p0 * alpha_i\n",
    "            r_new = r0 - temp * alpha_i\n",
    "            norm_new = r_new @ r_new\n",
    "            beta_i = norm_new/norm_0\n",
    "            p_new = r_new +  p0*beta_i\n",
    "\n",
    "            r0 = r_new\n",
    "            p0 = p_new\n",
    "            x0 = x_new\n",
    "\n",
    "            self.k+=1\n",
    "            if norm(r_new) < self.eps:\n",
    "                break\n",
    "        return x0\n",
    "\n",
    "\n",
    "\n",
    "\n",
    "    def solve_and_print(self):\n",
    "        start = time()\n",
    "        x = self.solve()\n",
    "        end = time()\n",
    "        start2 = time()\n",
    "        x2 = np.linalg.solve(self.matrix.toarray(), self.b)\n",
    "        end2 = time()\n",
    "        logger.info('Custom solution:\\n')\n",
    "        logger.info(f'{x.round(5)}\\n')\n",
    "        logger.info(f'eps={self.eps} shape={self.shape} iterations={self.k} mean={np.mean(x)} time={round(end - start, 5)} seconds\\n')\n",
    "        logger.info('NumPy solution:\\n')\n",
    "        logger.info(f'{x2.round(5)}\\n')\n",
    "        logger.info(f'mean={np.mean(x2)} time={round(end2 - start2, 5)} seconds\\n')\n"
   ]
  },
  {
   "cell_type": "code",
   "execution_count": 5,
   "metadata": {},
   "outputs": [
    {
     "name": "stdout",
     "output_type": "stream",
     "text": [
      "\u001b[1mlevel=INFO Custom solution:\n",
      "\u001b[0m\n",
      "\u001b[1mlevel=INFO [   0.4867  -139.21825   36.03465   40.9907   160.46605  -17.3655\n",
      "   23.0181    26.00615   -8.50406  -41.04431]\n",
      "\u001b[0m\n",
      "\u001b[1mlevel=INFO eps=0.01 shape=10 iterations=10 mean=8.087021967322894 time=0.002 seconds\n",
      "\u001b[0m\n",
      "\u001b[1mlevel=INFO NumPy solution:\n",
      "\u001b[0m\n",
      "\u001b[1mlevel=INFO [   0.4867  -139.21825   36.03465   40.9907   160.46605  -17.3655\n",
      "   23.0181    26.00615   -8.50406  -41.04431]\n",
      "\u001b[0m\n",
      "\u001b[1mlevel=INFO mean=8.08702196756482 time=0.002 seconds\n",
      "\u001b[0m\n"
     ]
    }
   ],
   "source": [
    "def main():\n",
    "\n",
    "    matrix, b = read_matrix(args[\"input\"])\n",
    "    solver = Solver(matrix, b, output_file=args[\"output\"], eps=args[\"eps\"])\n",
    "    solver.solve_and_print()\n",
    "\n",
    "\n",
    "if __name__ == \"__main__\":\n",
    "    main()"
   ]
  }
 ],
 "metadata": {
  "kernelspec": {
   "display_name": "Python 3",
   "language": "python",
   "name": "python3"
  },
  "language_info": {
   "codemirror_mode": {
    "name": "ipython",
    "version": 3
   },
   "file_extension": ".py",
   "mimetype": "text/x-python",
   "name": "python",
   "nbconvert_exporter": "python",
   "pygments_lexer": "ipython3",
   "version": "3.10.9"
  }
 },
 "nbformat": 4,
 "nbformat_minor": 2
}
