{
  "cells": [
    {
      "cell_type": "markdown",
      "id": "69cf88bd",
      "metadata": {
        "id": "69cf88bd"
      },
      "source": [
        "# Курсовая работа\n",
        "Тема 1 Решение систем линейных алгебраических уравнений с симметричными разреженными матрицами большой размерности. Метод сопряженных градиентов.\n"
      ]
    },
    {
      "cell_type": "markdown",
      "id": "59c97d16",
      "metadata": {
        "id": "59c97d16"
      },
      "source": [
        "Упаковать\n",
        "\n",
        "Сравнить с гаусс по времени"
      ]
    },
    {
      "cell_type": "code",
      "execution_count": 1,
      "id": "7ba60ffd",
      "metadata": {
        "scrolled": false,
        "id": "7ba60ffd"
      },
      "outputs": [],
      "source": [
        "import scipy.sparse as sc\n",
        "from scipy import stats\n",
        "from scipy.linalg import solve\n",
        "from numpy.random import default_rng, rand\n",
        "import numpy as np\n",
        "from scipy.sparse.linalg import cg as lcg\n",
        "from sklearn.datasets import make_sparse_spd_matrix\n",
        "from numpy.linalg import solve, norm\n",
        "import matplotlib.pyplot as plt\n",
        "import math\n",
        "from scipy.sparse import csr_matrix\n",
        "import time\n",
        "import copy"
      ]
    },
    {
      "cell_type": "code",
      "execution_count": 1,
      "id": "e29a3782",
      "metadata": {
        "id": "e29a3782"
      },
      "outputs": [],
      "source": []
    },
    {
      "cell_type": "markdown",
      "id": "fc5a038e",
      "metadata": {
        "id": "fc5a038e"
      },
      "source": [
        "#### Создание  разряженной симметрической матрицы и правой части СЛАУ"
      ]
    },
    {
      "cell_type": "code",
      "execution_count": 2,
      "id": "2a70b6c5",
      "metadata": {
        "id": "2a70b6c5"
      },
      "outputs": [],
      "source": [
        "def matr(size):\n",
        "    A = make_sparse_spd_matrix(size,alpha=0.95)\n",
        "    return(A)"
      ]
    },
    {
      "cell_type": "code",
      "execution_count": 3,
      "id": "81b00da8",
      "metadata": {
        "id": "81b00da8"
      },
      "outputs": [],
      "source": [
        "def xb(size):\n",
        "    b = np.random.rand(size,1)\n",
        "    x = (np.zeros(size)+1.0).reshape(-1, 1)\n",
        "    return x, b"
      ]
    },
    {
      "cell_type": "markdown",
      "id": "600262c1",
      "metadata": {
        "id": "600262c1"
      },
      "source": [
        "#### Метод сопряженных градиентов (CG)"
      ]
    },
    {
      "cell_type": "code",
      "execution_count": 4,
      "id": "d307509f",
      "metadata": {
        "id": "d307509f"
      },
      "outputs": [],
      "source": [
        "def norma(r):\n",
        "    res = 0\n",
        "    for i in r:\n",
        "        res += r*r\n",
        "    return math.sqrt(sum(res))"
      ]
    },
    {
      "cell_type": "code",
      "execution_count": 5,
      "id": "7abbb945",
      "metadata": {
        "id": "7abbb945"
      },
      "outputs": [],
      "source": [
        "def norma_s(r):\n",
        "    res = r.multiply(r)\n",
        "    res = res.sum()\n",
        "    return math.sqrt(res)"
      ]
    },
    {
      "cell_type": "code",
      "execution_count": 6,
      "id": "fe6dc249",
      "metadata": {
        "id": "fe6dc249"
      },
      "outputs": [],
      "source": [
        "def cg_s(A,b,x):\n",
        "    start_time = time.time()\n",
        "    r = b - A @ x\n",
        "    p = r\n",
        "    rsold = r.T @ r\n",
        "    k = 0\n",
        "    time2 = 0\n",
        "    while True:\n",
        "        Ap = A @ p\n",
        "        alpha = rsold / (p.T @ Ap)\n",
        "        time1 = time.time()\n",
        "        alpha = csr_matrix(alpha)\n",
        "        time2 += (time.time() -time1)\n",
        "        x = x + p * alpha\n",
        "        r = r - Ap * alpha\n",
        "        rsnew = r.T @ r\n",
        "        if norma_s(r) < 0.001:\n",
        "            print(\"Количество шагов :\", k)\n",
        "            print(time.time()- start_time - time2)\n",
        "\n",
        "            return x,k, time.time()- start_time - time2\n",
        "        time3 = time.time()\n",
        "        r_del = csr_matrix(rsnew / rsold)\n",
        "        time2 += (time.time() - time3)\n",
        "        p = r + p* r_del\n",
        "        rsold = rsnew\n",
        "        k = k + 1"
      ]
    },
    {
      "cell_type": "code",
      "execution_count": 7,
      "id": "9b3d831e",
      "metadata": {
        "id": "9b3d831e"
      },
      "outputs": [],
      "source": [
        "def cg(A,b,x):\n",
        "    start_time = time.time()\n",
        "    r = b - A @ x\n",
        "    p = r\n",
        "    rsold = r.T @ r\n",
        "    k = 0\n",
        "    while True:\n",
        "        Ap = A @ p\n",
        "        alpha = rsold / (p.T @ Ap)\n",
        "        x = x + alpha * p\n",
        "        r = r - alpha * Ap\n",
        "        rsnew = r.T @ r\n",
        "        if norma(r) < 0.001:\n",
        "            print(\"Количество шагов :\", k)\n",
        "            print(time.time()- start_time)\n",
        "            return x,k, time.time()- start_time\n",
        "        p = r + (rsnew / rsold) * p\n",
        "        rsold = rsnew\n",
        "        k = k + 1"
      ]
    },
    {
      "cell_type": "markdown",
      "id": "48291a17",
      "metadata": {
        "id": "48291a17"
      },
      "source": [
        "##### Проверка алгоритма"
      ]
    },
    {
      "cell_type": "code",
      "execution_count": 8,
      "id": "e9f1a5fd",
      "metadata": {
        "id": "e9f1a5fd"
      },
      "outputs": [],
      "source": [
        "A = np.array([[4,1],[1,3]])\n",
        "b = np.array([1,2]).reshape(-1, 1)\n",
        "x = np.array([2,1]).reshape(-1, 1)"
      ]
    },
    {
      "cell_type": "code",
      "execution_count": 9,
      "id": "5920fee7",
      "metadata": {
        "colab": {
          "base_uri": "https://localhost:8080/"
        },
        "id": "5920fee7",
        "outputId": "4dc6b3bc-33fd-4fc6-e534-2d1e3455de94"
      },
      "outputs": [
        {
          "output_type": "execute_result",
          "data": {
            "text/plain": [
              "array([[1.],\n",
              "       [1.],\n",
              "       [1.]])"
            ]
          },
          "metadata": {},
          "execution_count": 9
        }
      ],
      "source": [
        "(np.zeros(3)+1.0).reshape(-1, 1)"
      ]
    },
    {
      "cell_type": "code",
      "execution_count": 10,
      "id": "27e1bc1e",
      "metadata": {
        "colab": {
          "base_uri": "https://localhost:8080/"
        },
        "id": "27e1bc1e",
        "outputId": "23338195-67f6-4647-ac9d-e62c58a86a16"
      },
      "outputs": [
        {
          "output_type": "execute_result",
          "data": {
            "text/plain": [
              "array([[2],\n",
              "       [1]])"
            ]
          },
          "metadata": {},
          "execution_count": 10
        }
      ],
      "source": [
        "np.array([2,1]).reshape(-1, 1)"
      ]
    },
    {
      "cell_type": "code",
      "execution_count": 11,
      "id": "d5a65374",
      "metadata": {
        "colab": {
          "base_uri": "https://localhost:8080/"
        },
        "id": "d5a65374",
        "outputId": "1fa247dd-4c8e-4ba8-9022-6a99243412fb"
      },
      "outputs": [
        {
          "output_type": "execute_result",
          "data": {
            "text/plain": [
              "array([[-8],\n",
              "       [-3]])"
            ]
          },
          "metadata": {},
          "execution_count": 11
        }
      ],
      "source": [
        "r = b - A @ x\n",
        "r\n"
      ]
    },
    {
      "cell_type": "code",
      "execution_count": 12,
      "id": "4d4bd9a9",
      "metadata": {
        "scrolled": false,
        "colab": {
          "base_uri": "https://localhost:8080/"
        },
        "id": "4d4bd9a9",
        "outputId": "5856548b-1130-4a58-f8b5-1393962e5a1a"
      },
      "outputs": [
        {
          "output_type": "stream",
          "name": "stdout",
          "text": [
            "Количество шагов : 1\n",
            "0.004196882247924805\n"
          ]
        },
        {
          "output_type": "execute_result",
          "data": {
            "text/plain": [
              "(array([[0.09090909],\n",
              "        [0.63636364]]),\n",
              " 1,\n",
              " 0.004220724105834961)"
            ]
          },
          "metadata": {},
          "execution_count": 12
        }
      ],
      "source": [
        "cg(A,b,x)"
      ]
    },
    {
      "cell_type": "code",
      "execution_count": 13,
      "id": "9e8d548e",
      "metadata": {
        "colab": {
          "base_uri": "https://localhost:8080/"
        },
        "id": "9e8d548e",
        "outputId": "f1511830-df69-448f-f3e9-7902df9a4087"
      },
      "outputs": [
        {
          "output_type": "execute_result",
          "data": {
            "text/plain": [
              "(array([0.09090909, 0.63636364]), 0)"
            ]
          },
          "metadata": {},
          "execution_count": 13
        }
      ],
      "source": [
        "lcg(A,b,x)"
      ]
    },
    {
      "cell_type": "markdown",
      "id": "ba5141ed",
      "metadata": {
        "id": "ba5141ed"
      },
      "source": [
        "#### Результат"
      ]
    },
    {
      "cell_type": "code",
      "execution_count": 14,
      "id": "ab683e6d",
      "metadata": {
        "id": "ab683e6d"
      },
      "outputs": [],
      "source": [
        "def ans(size = 5):\n",
        "    A = matr(size)\n",
        "    x,b = xb(size)\n",
        "    CG1_x, CG1_k, CG1_t =cg(A,b,x)\n",
        "    CG2 = lcg(A,b,x)[0]\n",
        "    A,b, x = csr_matrix(A), csr_matrix(b), csr_matrix(x)\n",
        "    CG3_x, CG3_k, CG3_t = cg_s(A,b,x)\n",
        "    j = 0\n",
        "    summa = 0\n",
        "    while j < size:\n",
        "        summa += (CG2[j]-CG1_x[j])**2\n",
        "        j = j + 1\n",
        "    mer1 = summa/size\n",
        "    cg_h = CG3_x.toarray()\n",
        "    j = 0\n",
        "    summa = 0\n",
        "    while j < size:\n",
        "        summa += (CG2[j]-cg_h[j][0])**2\n",
        "        j = j + 1\n",
        "    mer2 = summa/size\n",
        "    return CG1_x, CG2,CG3_x.A, mer1,mer2, CG1_t, CG3_t, A.A, b.A,"
      ]
    },
    {
      "cell_type": "code",
      "execution_count": 15,
      "id": "52bfebf5",
      "metadata": {
        "scrolled": false,
        "colab": {
          "base_uri": "https://localhost:8080/"
        },
        "id": "52bfebf5",
        "outputId": "559b7fea-4a2a-4c8e-8382-38abd8106eb0"
      },
      "outputs": [
        {
          "output_type": "stream",
          "name": "stdout",
          "text": [
            "Количество шагов : 25\n",
            "0.00964808464050293\n",
            "Количество шагов : 23\n",
            "0.1418170928955078\n"
          ]
        }
      ],
      "source": [
        "CG = ans(size = 50)"
      ]
    },
    {
      "cell_type": "code",
      "execution_count": 16,
      "id": "a1c850d7",
      "metadata": {
        "id": "a1c850d7"
      },
      "outputs": [],
      "source": [
        "A = CG[7]\n",
        "B = CG[8]"
      ]
    },
    {
      "cell_type": "code",
      "execution_count": 17,
      "id": "9b03769e",
      "metadata": {
        "colab": {
          "base_uri": "https://localhost:8080/"
        },
        "id": "9b03769e",
        "outputId": "9d446479-917e-4699-ab40-6e987dd380c9"
      },
      "outputs": [
        {
          "output_type": "stream",
          "name": "stdout",
          "text": [
            "0.009508848190307617\n"
          ]
        }
      ],
      "source": [
        "start_time = time.time()\n",
        "solve(A,B)\n",
        "print(time.time()-start_time)"
      ]
    },
    {
      "cell_type": "code",
      "execution_count": 18,
      "id": "3876aa40",
      "metadata": {
        "colab": {
          "base_uri": "https://localhost:8080/"
        },
        "id": "3876aa40",
        "outputId": "5d20e780-c510-4bb5-fc9e-9ef8729f6e52"
      },
      "outputs": [
        {
          "output_type": "stream",
          "name": "stdout",
          "text": [
            "Среднеквадратичная ошибка: 4.280656997972435e-10\n",
            "Среднеквадратичная ошибка: 1.054741529553345e-08\n"
          ]
        }
      ],
      "source": [
        "print(\"Среднеквадратичная ошибка: {}\".format(CG[3][0]))\n",
        "print(\"Среднеквадратичная ошибка: {}\".format(CG[4]))"
      ]
    },
    {
      "cell_type": "code",
      "execution_count": 19,
      "id": "5753cd8f",
      "metadata": {
        "colab": {
          "base_uri": "https://localhost:8080/"
        },
        "id": "5753cd8f",
        "outputId": "0be509c1-763b-4d3e-fb40-6bbd18852fcd"
      },
      "outputs": [
        {
          "output_type": "stream",
          "name": "stdout",
          "text": [
            "Количество шагов : 34\n",
            "0.0354008674621582\n",
            "Количество шагов : 29\n",
            "0.12494468688964844\n"
          ]
        }
      ],
      "source": [
        "CG = ans(size = 75)"
      ]
    },
    {
      "cell_type": "code",
      "execution_count": 20,
      "id": "005b2fd4",
      "metadata": {
        "id": "005b2fd4"
      },
      "outputs": [],
      "source": [
        "A = CG[7]\n",
        "B = CG[8]"
      ]
    },
    {
      "cell_type": "code",
      "execution_count": 21,
      "id": "9036db48",
      "metadata": {
        "colab": {
          "base_uri": "https://localhost:8080/"
        },
        "id": "9036db48",
        "outputId": "f9e2fc12-1f61-42cd-cc50-1ed3abada4e5"
      },
      "outputs": [
        {
          "output_type": "stream",
          "name": "stdout",
          "text": [
            "0.002691507339477539\n"
          ]
        }
      ],
      "source": [
        "start_time = time.time()\n",
        "solve(A,B)\n",
        "print(time.time()-start_time)"
      ]
    },
    {
      "cell_type": "code",
      "execution_count": 22,
      "id": "1d1d437f",
      "metadata": {
        "colab": {
          "base_uri": "https://localhost:8080/"
        },
        "id": "1d1d437f",
        "outputId": "3b212fec-080b-4988-d66d-b5884f6ff931"
      },
      "outputs": [
        {
          "output_type": "stream",
          "name": "stdout",
          "text": [
            "Среднеквадратичная ошибка: 4.042087768754371e-10\n",
            "Среднеквадратичная ошибка: 9.658966840006633e-08\n"
          ]
        }
      ],
      "source": [
        "print(\"Среднеквадратичная ошибка: {}\".format(CG[3][0]))\n",
        "print(\"Среднеквадратичная ошибка: {}\".format(CG[4]))"
      ]
    },
    {
      "cell_type": "code",
      "execution_count": 23,
      "id": "2437e62b",
      "metadata": {
        "colab": {
          "base_uri": "https://localhost:8080/"
        },
        "id": "2437e62b",
        "outputId": "d0391a3b-cb7a-4e73-f075-509ca31ecfec"
      },
      "outputs": [
        {
          "output_type": "stream",
          "name": "stdout",
          "text": [
            "Количество шагов : 61\n",
            "0.04278683662414551\n",
            "Количество шагов : 53\n",
            "0.26924800872802734\n"
          ]
        }
      ],
      "source": [
        "CG = ans(size = 100)"
      ]
    },
    {
      "cell_type": "code",
      "execution_count": 24,
      "id": "d7e10457",
      "metadata": {
        "id": "d7e10457"
      },
      "outputs": [],
      "source": [
        "A = CG[7]\n",
        "B = CG[8]"
      ]
    },
    {
      "cell_type": "code",
      "execution_count": 25,
      "id": "88098ea2",
      "metadata": {
        "colab": {
          "base_uri": "https://localhost:8080/"
        },
        "id": "88098ea2",
        "outputId": "089f0fbe-e06a-4257-fed9-ba9c02795d74"
      },
      "outputs": [
        {
          "output_type": "stream",
          "name": "stdout",
          "text": [
            "0.0037107467651367188\n"
          ]
        }
      ],
      "source": [
        "start_time = time.time()\n",
        "solve(A,B)\n",
        "print(time.time()-start_time)"
      ]
    },
    {
      "cell_type": "code",
      "execution_count": 26,
      "id": "e3b8786f",
      "metadata": {
        "colab": {
          "base_uri": "https://localhost:8080/"
        },
        "id": "e3b8786f",
        "outputId": "786f05d6-dd27-4568-ed22-bc60c94eb5aa"
      },
      "outputs": [
        {
          "output_type": "stream",
          "name": "stdout",
          "text": [
            "Среднеквадратичная ошибка: 5.355725141794007e-10\n",
            "Среднеквадратичная ошибка: 1.0824983390299796e-07\n"
          ]
        }
      ],
      "source": [
        "print(\"Среднеквадратичная ошибка: {}\".format(CG[3][0]))\n",
        "print(\"Среднеквадратичная ошибка: {}\".format(CG[4]))"
      ]
    },
    {
      "cell_type": "code",
      "execution_count": 27,
      "id": "74072866",
      "metadata": {
        "scrolled": false,
        "colab": {
          "base_uri": "https://localhost:8080/"
        },
        "id": "74072866",
        "outputId": "746dff32-e2fd-4a3d-e0dc-01c51c42680e"
      },
      "outputs": [
        {
          "output_type": "stream",
          "name": "stdout",
          "text": [
            "Ответ:\n",
            " [[5.68615528e+01]\n",
            " [2.85993439e+01]\n",
            " [1.60278475e+01]\n",
            " [1.35275894e+01]\n",
            " [3.40400926e+01]\n",
            " [5.99333248e+00]\n",
            " [2.05370967e+01]\n",
            " [8.45763554e+01]\n",
            " [6.23992886e+01]\n",
            " [5.47267687e+00]\n",
            " [1.48761628e+01]\n",
            " [1.72161540e+01]\n",
            " [1.49196684e+00]\n",
            " [1.02738075e+01]\n",
            " [2.76368981e+01]\n",
            " [2.35954945e+00]\n",
            " [2.12268149e+01]\n",
            " [1.44608288e+01]\n",
            " [1.22366721e+01]\n",
            " [1.10207213e+01]\n",
            " [3.31257355e+01]\n",
            " [4.12453496e+01]\n",
            " [1.08137929e+01]\n",
            " [3.13439019e+01]\n",
            " [1.64837234e+01]\n",
            " [1.18662828e+00]\n",
            " [1.61945174e+01]\n",
            " [3.88264059e+01]\n",
            " [1.12462561e+00]\n",
            " [9.49512508e+00]\n",
            " [4.01008252e+01]\n",
            " [3.38434164e+01]\n",
            " [2.79592312e+01]\n",
            " [1.87349965e+01]\n",
            " [1.70644288e+00]\n",
            " [2.91208232e+01]\n",
            " [8.22823259e+00]\n",
            " [2.18241795e+01]\n",
            " [1.83831894e+01]\n",
            " [2.59058973e+00]\n",
            " [2.89475638e+00]\n",
            " [5.12055818e+00]\n",
            " [2.48060804e+01]\n",
            " [3.78051133e+00]\n",
            " [7.45216982e+00]\n",
            " [9.91623839e-01]\n",
            " [1.16925512e+01]\n",
            " [7.16313881e+00]\n",
            " [3.15163513e+00]\n",
            " [1.73119063e+01]\n",
            " [2.33229395e+01]\n",
            " [2.41957864e+00]\n",
            " [3.01147706e+01]\n",
            " [5.87330528e+01]\n",
            " [1.11253328e+01]\n",
            " [2.08450607e+00]\n",
            " [1.16463834e+01]\n",
            " [1.39721470e+01]\n",
            " [6.34156465e-01]\n",
            " [1.37615268e+01]\n",
            " [3.05901736e-01]\n",
            " [1.82036060e+01]\n",
            " [4.08937720e-02]\n",
            " [1.83933419e+01]\n",
            " [1.42821281e+01]\n",
            " [4.11357794e+00]\n",
            " [8.72520288e+01]\n",
            " [1.19749444e+01]\n",
            " [2.34608710e+01]\n",
            " [2.26077976e+01]\n",
            " [2.89476752e+01]\n",
            " [8.55381172e+01]\n",
            " [7.48897217e+00]\n",
            " [2.98684985e+01]\n",
            " [1.42541573e+01]\n",
            " [8.92435182e+00]\n",
            " [2.63795297e+00]\n",
            " [3.53174586e+01]\n",
            " [8.38839489e+00]\n",
            " [7.73804257e+00]\n",
            " [1.42639727e+01]\n",
            " [6.31041412e+00]\n",
            " [2.85836972e+01]\n",
            " [1.35956296e+01]\n",
            " [1.90322997e+01]\n",
            " [6.76777198e+00]\n",
            " [5.88868941e+00]\n",
            " [4.22346617e+00]\n",
            " [5.85573544e+01]\n",
            " [4.24656868e+00]\n",
            " [1.59861693e+01]\n",
            " [4.71165670e+00]\n",
            " [2.07458719e+01]\n",
            " [2.67809774e+00]\n",
            " [5.74487217e+00]\n",
            " [1.80060051e+01]\n",
            " [2.58444895e+01]\n",
            " [2.27879359e+01]\n",
            " [1.21999673e+01]\n",
            " [4.37069816e+00]]\n",
            "Точный ответ:\n",
            " [5.68615308e+01 2.85993676e+01 1.60278445e+01 1.35275490e+01\n",
            " 3.40400584e+01 5.99333285e+00 2.05370766e+01 8.45762872e+01\n",
            " 6.23993436e+01 5.47268701e+00 1.48761747e+01 1.72161383e+01\n",
            " 1.49195737e+00 1.02738361e+01 2.76369391e+01 2.35955132e+00\n",
            " 2.12268220e+01 1.44608340e+01 1.22366932e+01 1.10207521e+01\n",
            " 3.31257246e+01 4.12453835e+01 1.08138016e+01 3.13439386e+01\n",
            " 1.64837370e+01 1.18663674e+00 1.61945057e+01 3.88264344e+01\n",
            " 1.12462868e+00 9.49513987e+00 4.01008364e+01 3.38434407e+01\n",
            " 2.79592709e+01 1.87349919e+01 1.70645012e+00 2.91208497e+01\n",
            " 8.22823894e+00 2.18242131e+01 1.83831921e+01 2.59058003e+00\n",
            " 2.89477373e+00 5.12057460e+00 2.48060853e+01 3.78051103e+00\n",
            " 7.45216579e+00 9.91628574e-01 1.16925285e+01 7.16313915e+00\n",
            " 3.15161588e+00 1.73118773e+01 2.33229347e+01 2.41956180e+00\n",
            " 3.01147543e+01 5.87330823e+01 1.11253570e+01 2.08451871e+00\n",
            " 1.16464013e+01 1.39721551e+01 6.34158939e-01 1.37615254e+01\n",
            " 3.05895537e-01 1.82035584e+01 4.08852070e-02 1.83933757e+01\n",
            " 1.42821111e+01 4.11355979e+00 8.72519950e+01 1.19749433e+01\n",
            " 2.34608767e+01 2.26078085e+01 2.89476612e+01 8.55380774e+01\n",
            " 7.48896638e+00 2.98685045e+01 1.42541561e+01 8.92434068e+00\n",
            " 2.63794262e+00 3.53174209e+01 8.38840809e+00 7.73805768e+00\n",
            " 1.42639800e+01 6.31043937e+00 2.85836305e+01 1.35956526e+01\n",
            " 1.90322783e+01 6.76775204e+00 5.88868597e+00 4.22347978e+00\n",
            " 5.85574072e+01 4.24657207e+00 1.59862189e+01 4.71162997e+00\n",
            " 2.07458583e+01 2.67808469e+00 5.74486412e+00 1.80060120e+01\n",
            " 2.58445162e+01 2.27879503e+01 1.21999587e+01 4.37068529e+00]\n"
          ]
        }
      ],
      "source": [
        "print(\"Ответ:\\n {}\".format(CG[0]))\n",
        "print(\"Точный ответ:\\n {}\".format(CG[1]))"
      ]
    },
    {
      "cell_type": "code",
      "execution_count": 27,
      "id": "c6269ac7",
      "metadata": {
        "scrolled": false,
        "id": "c6269ac7"
      },
      "outputs": [],
      "source": []
    },
    {
      "cell_type": "markdown",
      "id": "ec650456",
      "metadata": {
        "id": "ec650456"
      },
      "source": [
        "#### Сравнение времени со встроенной функцией"
      ]
    },
    {
      "cell_type": "code",
      "execution_count": 28,
      "id": "7caa329b",
      "metadata": {
        "id": "7caa329b"
      },
      "outputs": [],
      "source": [
        "A = CG[7]\n",
        "B = CG[8]"
      ]
    },
    {
      "cell_type": "code",
      "execution_count": 29,
      "id": "df699368",
      "metadata": {
        "colab": {
          "base_uri": "https://localhost:8080/"
        },
        "id": "df699368",
        "outputId": "c052395d-e3d0-4d6c-fbb4-5f6266879ad9"
      },
      "outputs": [
        {
          "output_type": "stream",
          "name": "stdout",
          "text": [
            "0.0007696151733398438\n"
          ]
        }
      ],
      "source": [
        "start_time = time.time()\n",
        "solve(A,B)\n",
        "print(time.time()-start_time)"
      ]
    },
    {
      "cell_type": "code",
      "execution_count": 29,
      "id": "79139ebd",
      "metadata": {
        "id": "79139ebd"
      },
      "outputs": [],
      "source": []
    }
  ],
  "metadata": {
    "kernelspec": {
      "display_name": "Python 3",
      "language": "python",
      "name": "python3"
    },
    "language_info": {
      "codemirror_mode": {
        "name": "ipython",
        "version": 3
      },
      "file_extension": ".py",
      "mimetype": "text/x-python",
      "name": "python",
      "nbconvert_exporter": "python",
      "pygments_lexer": "ipython3",
      "version": "3.8.8"
    },
    "colab": {
      "provenance": []
    }
  },
  "nbformat": 4,
  "nbformat_minor": 5
}